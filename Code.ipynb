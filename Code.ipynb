{
 "cells": [
  {
   "cell_type": "markdown",
   "metadata": {},
   "source": [
    "## Project 3: Web APIs & NLP\n",
    "### Author: Brian Jankowitz\n",
    "[Medium](https://medium.com/@JankowitzB) | [LinkedIn](https://www.linkedin.com/in/brian-jankowitz/)"
   ]
  },
  {
   "cell_type": "markdown",
   "metadata": {},
   "source": [
    "## Problem Statement\n",
    "\n",
    "With the mandatory retirmemnt age of airline pilots being 65 years old, a lot of airline pilots are reaching the mandatory retirment age. According to CNBC, there will be a demand for 800,000 new airline pilots over the next 20 years. Ex-CEO of Boeing, Dennis Muilenburg, says that \"the global pilot shortage will be one of the biggest challenges facing the airline industry.\n",
    "\n",
    "Airlines have tried to help train new pilots by creating Cadet Programs. The marketing team in our company wants to market cadet programs to people interetsed in aviation. To predict accurately which group they should market to, the marketing team wants to see from certain posts which category a user might belong to, Technology or Flying, and market to them. These two groups were chosen as they both have potential interests at becoming pilots. Different ads will be used to market to them in order to expose them to the cadet program. The ultimate goal of having them sign up for cadet programs to reduce help employ pilots at an airline. "
   ]
  },
  {
   "cell_type": "markdown",
   "metadata": {},
   "source": [
    "## Executive Summary\n",
    "\n",
    " I decided to collect data from two subreddits, Technology and Flying. After I gathered the data and saved it to a dataframe, I analyzed the shape and the type of data that was in there. There were nulls in the data but that did not affect me cleaning the data as they were not in the two columns we were looking at.\n",
    "\n",
    "I made a function that cleaned the data. The function makes all the characters lowercase, removes punctuation, whitespace, and html special entities, and lemmatized all the words. I then made a function to get the common words. This function prints the top 20 most common words. This was used to see which words were common. I decided to remove the common English stop words, flying, and technology as I wanted to make accurate predictions without having the name of the subreddit category in the data.\n",
    "\n",
    "I made two models, each being tested with two vectorizers for train test split. I used Logistic Regression and MultinomialNB for my models and Count Vectorizer and TfidfVectorizer for my vectorizers. When the best model which had MultinomialNB and Count Vectorizer, I looked at the best ngram range and the max features. The best ngram range was (1,2) and max features was 1280.  I tested max features, stop words, and ngram range. The goal was to have the least number of true negatives with a high true positive. This model had the lowest false negatives with 44 and true positive at 409. The train score was 93 and .89. There is a little overfit but this model had the least true negatives which is good for the marketing team as they won’t market to people that are not their target audience."
   ]
  },
  {
   "cell_type": "markdown",
   "metadata": {},
   "source": [
    "## Table of Contents\n",
    "\n",
    "<h1>Table of Contents<span class=\"tocSkip\"></span></h1>\n",
    "<div class=\"toc\"><ul class=\"toc-item\"><li><ul class=\"toc-item\"><li><span><a href=\"#Project-3:-Web-APIs-&amp;-NLP\" data-toc-modified-id=\"Project-3:-Web-APIs-&amp;-NLP-0.1\"><span class=\"toc-item-num\">0.1&nbsp;&nbsp;</span>Project 3: Web APIs &amp; NLP</a></span></li><li><span><a href=\"#By:-Brian-Jankowitz\" data-toc-modified-id=\"By:-Brian-Jankowitz-0.2\"><span class=\"toc-item-num\">0.2&nbsp;&nbsp;</span>By: Brian Jankowitz</a></span></li></ul></li><li><span><a href=\"#Problem-Statement\" data-toc-modified-id=\"Problem-Statement-1\"><span class=\"toc-item-num\">1&nbsp;&nbsp;</span>Problem Statement</a></span></li><li><span><a href=\"#Executive-Summary\" data-toc-modified-id=\"Executive-Summary-2\"><span class=\"toc-item-num\">2&nbsp;&nbsp;</span>Executive Summary</a></span></li><li><span><a href=\"#Table-of-Contents\" data-toc-modified-id=\"Table-of-Contents-3\"><span class=\"toc-item-num\">3&nbsp;&nbsp;</span>Table of Contents</a></span></li><li><span><a href=\"#Loading-Libraries-&amp;-Data\" data-toc-modified-id=\"Loading-Libraries-&amp;-Data-4\"><span class=\"toc-item-num\">4&nbsp;&nbsp;</span>Loading Libraries &amp; Data</a></span></li><li><span><a href=\"#Preliminary-EDA-(optional)\" data-toc-modified-id=\"Preliminary-EDA-(optional)-5\"><span class=\"toc-item-num\">5&nbsp;&nbsp;</span>Preliminary EDA (optional)</a></span></li><li><span><a href=\"#Data-Cleaning\" data-toc-modified-id=\"Data-Cleaning-6\"><span class=\"toc-item-num\">6&nbsp;&nbsp;</span>Data Cleaning</a></span></li><li><span><a href=\"#Exploratory-Data-Analysis-(EDA)\" data-toc-modified-id=\"Exploratory-Data-Analysis-(EDA)-7\"><span class=\"toc-item-num\">7&nbsp;&nbsp;</span>Exploratory Data Analysis (EDA)</a></span></li><li><span><a href=\"#Model-Preparation\" data-toc-modified-id=\"Model-Preparation-8\"><span class=\"toc-item-num\">8&nbsp;&nbsp;</span>Model Preparation</a></span></li><li><span><a href=\"#Modeling\" data-toc-modified-id=\"Modeling-9\"><span class=\"toc-item-num\">9&nbsp;&nbsp;</span>Modeling</a></span><ul class=\"toc-item\"><li><span><a href=\"#Baseline-Model\" data-toc-modified-id=\"Baseline-Model-9.1\"><span class=\"toc-item-num\">9.1&nbsp;&nbsp;</span>Baseline Model</a></span></li><li><span><a href=\"#Logistic-Regression\" data-toc-modified-id=\"Logistic-Regression-9.2\"><span class=\"toc-item-num\">9.2&nbsp;&nbsp;</span>Logistic Regression</a></span></li><li><span><a href=\"#MultinomialNB\" data-toc-modified-id=\"MultinomialNB-9.3\"><span class=\"toc-item-num\">9.3&nbsp;&nbsp;</span>MultinomialNB</a></span></li></ul></li><li><span><a href=\"#Model-Selection\" data-toc-modified-id=\"Model-Selection-10\"><span class=\"toc-item-num\">10&nbsp;&nbsp;</span>Model Selection</a></span></li><li><span><a href=\"#Model-Evaluation\" data-toc-modified-id=\"Model-Evaluation-11\"><span class=\"toc-item-num\">11&nbsp;&nbsp;</span>Model Evaluation</a></span></li><li><span><a href=\"#Conclusion\" data-toc-modified-id=\"Conclusion-12\"><span class=\"toc-item-num\">12&nbsp;&nbsp;</span>Conclusion</a></span></li><li><span><a href=\"#Recommendations\" data-toc-modified-id=\"Recommendations-13\"><span class=\"toc-item-num\">13&nbsp;&nbsp;</span>Recommendations</a></span></li><li><span><a href=\"#References\" data-toc-modified-id=\"References-14\"><span class=\"toc-item-num\">14&nbsp;&nbsp;</span>References</a></span></li></ul></div>"
   ]
  },
  {
   "cell_type": "markdown",
   "metadata": {},
   "source": [
    "## Loading Libraries & Data"
   ]
  },
  {
   "cell_type": "code",
   "execution_count": 1,
   "metadata": {},
   "outputs": [],
   "source": [
    "import pandas as pd\n",
    "import numpy as np\n",
    "import datetime as dt\n",
    "import time\n",
    "import requests\n",
    "import nltk\n",
    "from nltk.stem import WordNetLemmatizer\n",
    "from nltk.tokenize import RegexpTokenizer\n",
    "from sklearn.feature_extraction.text import CountVectorizer\n",
    "import regex as re\n",
    "from sklearn.pipeline import Pipeline\n",
    "from sklearn.linear_model import LogisticRegression\n",
    "from sklearn.model_selection import train_test_split, GridSearchCV, cross_val_score\n",
    "from sklearn.feature_extraction.text import CountVectorizer, TfidfVectorizer\n",
    "import seaborn as sns\n",
    "\n",
    "from sklearn.linear_model import LogisticRegression\n",
    "from sklearn.naive_bayes import MultinomialNB, BernoulliNB, GaussianNB\n",
    "from sklearn.neighbors import  KNeighborsClassifier \n",
    "from sklearn.metrics import r2_score,mean_squared_error,confusion_matrix,accuracy_score\n",
    "import sklearn.metrics as metrics\n",
    "import matplotlib.pyplot as plt\n",
    "from sklearn.metrics import classification_report\n",
    "from sklearn.model_selection import cross_val_score"
   ]
  },
  {
   "cell_type": "code",
   "execution_count": 2,
   "metadata": {},
   "outputs": [],
   "source": [
    "# Importing dataframe\n",
    "#S ubreddit1 is technology\n",
    "# subreddit 2 is flying\n",
    "# combined is both\n",
    "subreddit1 = pd.read_csv('datasets/subreddit1.csv'); \n",
    "subreddit2 = pd.read_csv('datasets/subreddit2.csv');\n",
    "combined = pd.read_csv('datasets/combined.csv', );"
   ]
  },
  {
   "cell_type": "markdown",
   "metadata": {},
   "source": [
    "## Preliminary EDA (optional)"
   ]
  },
  {
   "cell_type": "markdown",
   "metadata": {},
   "source": [
    "We want to see how big the data is that we scrapped from Reddit. Subreddit 1 is a lot smaller than Subreddit 2 which could be a concern to us. Since we are just going to be working at keywords that are common in each thread, it should be concern for us as our model will perform fine with the data we have."
   ]
  },
  {
   "cell_type": "code",
   "execution_count": 3,
   "metadata": {},
   "outputs": [
    {
     "name": "stdout",
     "output_type": "stream",
     "text": [
      "Subreddit 1 shape: \n",
      "(509, 10)\n",
      "Subreddit 2 shape: \n",
      "(1709, 10)\n",
      "Combined shape: \n",
      "(2218, 10)\n"
     ]
    }
   ],
   "source": [
    "# Show size of all dataframes\n",
    "print('Subreddit 1 shape: ') \n",
    "print(subreddit1.shape)\n",
    "print('Subreddit 2 shape: ') \n",
    "print(subreddit2.shape)\n",
    "print('Combined shape: ') \n",
    "print(combined.shape)"
   ]
  },
  {
   "cell_type": "markdown",
   "metadata": {},
   "source": [
    "Subreddit 1 and subreddit 2 are assign to another value so we can go back and look at that data at another time in the future."
   ]
  },
  {
   "cell_type": "code",
   "execution_count": 4,
   "metadata": {
    "scrolled": true
   },
   "outputs": [
    {
     "data": {
      "text/html": [
       "<div>\n",
       "<style scoped>\n",
       "    .dataframe tbody tr th:only-of-type {\n",
       "        vertical-align: middle;\n",
       "    }\n",
       "\n",
       "    .dataframe tbody tr th {\n",
       "        vertical-align: top;\n",
       "    }\n",
       "\n",
       "    .dataframe thead th {\n",
       "        text-align: right;\n",
       "    }\n",
       "</style>\n",
       "<table border=\"1\" class=\"dataframe\">\n",
       "  <thead>\n",
       "    <tr style=\"text-align: right;\">\n",
       "      <th></th>\n",
       "      <th>Unnamed: 0</th>\n",
       "      <th>title</th>\n",
       "      <th>selftext</th>\n",
       "      <th>subreddit</th>\n",
       "      <th>created_utc</th>\n",
       "      <th>author</th>\n",
       "      <th>num_comments</th>\n",
       "      <th>score</th>\n",
       "      <th>is_self</th>\n",
       "      <th>timestamp</th>\n",
       "    </tr>\n",
       "  </thead>\n",
       "  <tbody>\n",
       "    <tr>\n",
       "      <th>0</th>\n",
       "      <td>2</td>\n",
       "      <td>Tech Trends in 2020</td>\n",
       "      <td>[removed]</td>\n",
       "      <td>technology</td>\n",
       "      <td>1577819103</td>\n",
       "      <td>EPTechCG</td>\n",
       "      <td>2</td>\n",
       "      <td>1</td>\n",
       "      <td>True</td>\n",
       "      <td>2019-12-31</td>\n",
       "    </tr>\n",
       "    <tr>\n",
       "      <th>1</th>\n",
       "      <td>5</td>\n",
       "      <td>Universal Split Screen KB&amp;amp;M + 1 Controller</td>\n",
       "      <td>[removed]</td>\n",
       "      <td>technology</td>\n",
       "      <td>1577821148</td>\n",
       "      <td>AE_Rulez</td>\n",
       "      <td>1</td>\n",
       "      <td>1</td>\n",
       "      <td>True</td>\n",
       "      <td>2019-12-31</td>\n",
       "    </tr>\n",
       "    <tr>\n",
       "      <th>2</th>\n",
       "      <td>9</td>\n",
       "      <td>Voip.ms</td>\n",
       "      <td>[removed]</td>\n",
       "      <td>technology</td>\n",
       "      <td>1577822621</td>\n",
       "      <td>don_s-Canadian</td>\n",
       "      <td>2</td>\n",
       "      <td>1</td>\n",
       "      <td>True</td>\n",
       "      <td>2019-12-31</td>\n",
       "    </tr>\n",
       "    <tr>\n",
       "      <th>3</th>\n",
       "      <td>18</td>\n",
       "      <td>Magento E-commerce Development Company</td>\n",
       "      <td>[removed]</td>\n",
       "      <td>technology</td>\n",
       "      <td>1577825383</td>\n",
       "      <td>brookeB111</td>\n",
       "      <td>2</td>\n",
       "      <td>1</td>\n",
       "      <td>True</td>\n",
       "      <td>2019-12-31</td>\n",
       "    </tr>\n",
       "    <tr>\n",
       "      <th>4</th>\n",
       "      <td>28</td>\n",
       "      <td>Dell Inspiron i3-7878 - passes all diagnostics...</td>\n",
       "      <td>[removed]</td>\n",
       "      <td>technology</td>\n",
       "      <td>1577827820</td>\n",
       "      <td>ZheeDog</td>\n",
       "      <td>1</td>\n",
       "      <td>1</td>\n",
       "      <td>True</td>\n",
       "      <td>2019-12-31</td>\n",
       "    </tr>\n",
       "  </tbody>\n",
       "</table>\n",
       "</div>"
      ],
      "text/plain": [
       "   Unnamed: 0                                              title   selftext  \\\n",
       "0           2                                Tech Trends in 2020  [removed]   \n",
       "1           5     Universal Split Screen KB&amp;M + 1 Controller  [removed]   \n",
       "2           9                                            Voip.ms  [removed]   \n",
       "3          18             Magento E-commerce Development Company  [removed]   \n",
       "4          28  Dell Inspiron i3-7878 - passes all diagnostics...  [removed]   \n",
       "\n",
       "    subreddit  created_utc          author  num_comments  score  is_self  \\\n",
       "0  technology   1577819103        EPTechCG             2      1     True   \n",
       "1  technology   1577821148        AE_Rulez             1      1     True   \n",
       "2  technology   1577822621  don_s-Canadian             2      1     True   \n",
       "3  technology   1577825383      brookeB111             2      1     True   \n",
       "4  technology   1577827820         ZheeDog             1      1     True   \n",
       "\n",
       "    timestamp  \n",
       "0  2019-12-31  \n",
       "1  2019-12-31  \n",
       "2  2019-12-31  \n",
       "3  2019-12-31  \n",
       "4  2019-12-31  "
      ]
     },
     "execution_count": 4,
     "metadata": {},
     "output_type": "execute_result"
    }
   ],
   "source": [
    "# Assigning to another value\n",
    "# Looking at data in first subreddit\n",
    "subreddit1_original = subreddit1\n",
    "subreddit1.head()"
   ]
  },
  {
   "cell_type": "code",
   "execution_count": 5,
   "metadata": {},
   "outputs": [
    {
     "data": {
      "text/html": [
       "<div>\n",
       "<style scoped>\n",
       "    .dataframe tbody tr th:only-of-type {\n",
       "        vertical-align: middle;\n",
       "    }\n",
       "\n",
       "    .dataframe tbody tr th {\n",
       "        vertical-align: top;\n",
       "    }\n",
       "\n",
       "    .dataframe thead th {\n",
       "        text-align: right;\n",
       "    }\n",
       "</style>\n",
       "<table border=\"1\" class=\"dataframe\">\n",
       "  <thead>\n",
       "    <tr style=\"text-align: right;\">\n",
       "      <th></th>\n",
       "      <th>Unnamed: 0</th>\n",
       "      <th>title</th>\n",
       "      <th>selftext</th>\n",
       "      <th>subreddit</th>\n",
       "      <th>created_utc</th>\n",
       "      <th>author</th>\n",
       "      <th>num_comments</th>\n",
       "      <th>score</th>\n",
       "      <th>is_self</th>\n",
       "      <th>timestamp</th>\n",
       "    </tr>\n",
       "  </thead>\n",
       "  <tbody>\n",
       "    <tr>\n",
       "      <th>0</th>\n",
       "      <td>0</td>\n",
       "      <td>Does having depression disqualify me from gett...</td>\n",
       "      <td>I just read a post on here relating to mental ...</td>\n",
       "      <td>flying</td>\n",
       "      <td>1577819291</td>\n",
       "      <td>Wajarbe</td>\n",
       "      <td>15</td>\n",
       "      <td>1</td>\n",
       "      <td>True</td>\n",
       "      <td>2019-12-31</td>\n",
       "    </tr>\n",
       "    <tr>\n",
       "      <th>1</th>\n",
       "      <td>3</td>\n",
       "      <td>Where's the most beautiful/your favorite place...</td>\n",
       "      <td>Sup /r/Flying! As the title says, I'm curious ...</td>\n",
       "      <td>flying</td>\n",
       "      <td>1577824501</td>\n",
       "      <td>The_Desert_Pilot</td>\n",
       "      <td>73</td>\n",
       "      <td>1</td>\n",
       "      <td>True</td>\n",
       "      <td>2019-12-31</td>\n",
       "    </tr>\n",
       "    <tr>\n",
       "      <th>2</th>\n",
       "      <td>4</td>\n",
       "      <td>What happens if you get tired mid-flight ?</td>\n",
       "      <td>Starting pilot school, something I’ve always w...</td>\n",
       "      <td>flying</td>\n",
       "      <td>1577825030</td>\n",
       "      <td>virago91</td>\n",
       "      <td>42</td>\n",
       "      <td>1</td>\n",
       "      <td>True</td>\n",
       "      <td>2019-12-31</td>\n",
       "    </tr>\n",
       "    <tr>\n",
       "      <th>3</th>\n",
       "      <td>5</td>\n",
       "      <td>Class 1 medical</td>\n",
       "      <td>Hey guys! First of all, I wish you all happy n...</td>\n",
       "      <td>flying</td>\n",
       "      <td>1577826691</td>\n",
       "      <td>PouletRiz</td>\n",
       "      <td>2</td>\n",
       "      <td>1</td>\n",
       "      <td>True</td>\n",
       "      <td>2019-12-31</td>\n",
       "    </tr>\n",
       "    <tr>\n",
       "      <th>4</th>\n",
       "      <td>6</td>\n",
       "      <td>Alcohol history and medicals</td>\n",
       "      <td>This may seem completely counterproductive, I ...</td>\n",
       "      <td>flying</td>\n",
       "      <td>1577829232</td>\n",
       "      <td>sgf-guy</td>\n",
       "      <td>12</td>\n",
       "      <td>1</td>\n",
       "      <td>True</td>\n",
       "      <td>2019-12-31</td>\n",
       "    </tr>\n",
       "  </tbody>\n",
       "</table>\n",
       "</div>"
      ],
      "text/plain": [
       "   Unnamed: 0                                              title  \\\n",
       "0           0  Does having depression disqualify me from gett...   \n",
       "1           3  Where's the most beautiful/your favorite place...   \n",
       "2           4         What happens if you get tired mid-flight ?   \n",
       "3           5                                    Class 1 medical   \n",
       "4           6                       Alcohol history and medicals   \n",
       "\n",
       "                                            selftext subreddit  created_utc  \\\n",
       "0  I just read a post on here relating to mental ...    flying   1577819291   \n",
       "1  Sup /r/Flying! As the title says, I'm curious ...    flying   1577824501   \n",
       "2  Starting pilot school, something I’ve always w...    flying   1577825030   \n",
       "3  Hey guys! First of all, I wish you all happy n...    flying   1577826691   \n",
       "4  This may seem completely counterproductive, I ...    flying   1577829232   \n",
       "\n",
       "             author  num_comments  score  is_self   timestamp  \n",
       "0           Wajarbe            15      1     True  2019-12-31  \n",
       "1  The_Desert_Pilot            73      1     True  2019-12-31  \n",
       "2          virago91            42      1     True  2019-12-31  \n",
       "3         PouletRiz             2      1     True  2019-12-31  \n",
       "4           sgf-guy            12      1     True  2019-12-31  "
      ]
     },
     "execution_count": 5,
     "metadata": {},
     "output_type": "execute_result"
    }
   ],
   "source": [
    "# Assigning to another value\n",
    "# Looking at data in second subreddit\n",
    "subreddit2_original = subreddit2\n",
    "subreddit2.head()"
   ]
  },
  {
   "cell_type": "markdown",
   "metadata": {},
   "source": [
    "We combine subreddit 1 and 2 so we can have a dataframe with everything included. This will be used for our model."
   ]
  },
  {
   "cell_type": "code",
   "execution_count": 6,
   "metadata": {},
   "outputs": [
    {
     "data": {
      "text/html": [
       "<div>\n",
       "<style scoped>\n",
       "    .dataframe tbody tr th:only-of-type {\n",
       "        vertical-align: middle;\n",
       "    }\n",
       "\n",
       "    .dataframe tbody tr th {\n",
       "        vertical-align: top;\n",
       "    }\n",
       "\n",
       "    .dataframe thead th {\n",
       "        text-align: right;\n",
       "    }\n",
       "</style>\n",
       "<table border=\"1\" class=\"dataframe\">\n",
       "  <thead>\n",
       "    <tr style=\"text-align: right;\">\n",
       "      <th></th>\n",
       "      <th>Unnamed: 0</th>\n",
       "      <th>title</th>\n",
       "      <th>selftext</th>\n",
       "      <th>subreddit</th>\n",
       "      <th>created_utc</th>\n",
       "      <th>author</th>\n",
       "      <th>num_comments</th>\n",
       "      <th>score</th>\n",
       "      <th>is_self</th>\n",
       "      <th>timestamp</th>\n",
       "    </tr>\n",
       "  </thead>\n",
       "  <tbody>\n",
       "    <tr>\n",
       "      <th>0</th>\n",
       "      <td>2</td>\n",
       "      <td>Tech Trends in 2020</td>\n",
       "      <td>[removed]</td>\n",
       "      <td>technology</td>\n",
       "      <td>1577819103</td>\n",
       "      <td>EPTechCG</td>\n",
       "      <td>2</td>\n",
       "      <td>1</td>\n",
       "      <td>True</td>\n",
       "      <td>2019-12-31</td>\n",
       "    </tr>\n",
       "    <tr>\n",
       "      <th>1</th>\n",
       "      <td>5</td>\n",
       "      <td>Universal Split Screen KB&amp;amp;M + 1 Controller</td>\n",
       "      <td>[removed]</td>\n",
       "      <td>technology</td>\n",
       "      <td>1577821148</td>\n",
       "      <td>AE_Rulez</td>\n",
       "      <td>1</td>\n",
       "      <td>1</td>\n",
       "      <td>True</td>\n",
       "      <td>2019-12-31</td>\n",
       "    </tr>\n",
       "    <tr>\n",
       "      <th>2</th>\n",
       "      <td>9</td>\n",
       "      <td>Voip.ms</td>\n",
       "      <td>[removed]</td>\n",
       "      <td>technology</td>\n",
       "      <td>1577822621</td>\n",
       "      <td>don_s-Canadian</td>\n",
       "      <td>2</td>\n",
       "      <td>1</td>\n",
       "      <td>True</td>\n",
       "      <td>2019-12-31</td>\n",
       "    </tr>\n",
       "    <tr>\n",
       "      <th>3</th>\n",
       "      <td>18</td>\n",
       "      <td>Magento E-commerce Development Company</td>\n",
       "      <td>[removed]</td>\n",
       "      <td>technology</td>\n",
       "      <td>1577825383</td>\n",
       "      <td>brookeB111</td>\n",
       "      <td>2</td>\n",
       "      <td>1</td>\n",
       "      <td>True</td>\n",
       "      <td>2019-12-31</td>\n",
       "    </tr>\n",
       "    <tr>\n",
       "      <th>4</th>\n",
       "      <td>28</td>\n",
       "      <td>Dell Inspiron i3-7878 - passes all diagnostics...</td>\n",
       "      <td>[removed]</td>\n",
       "      <td>technology</td>\n",
       "      <td>1577827820</td>\n",
       "      <td>ZheeDog</td>\n",
       "      <td>1</td>\n",
       "      <td>1</td>\n",
       "      <td>True</td>\n",
       "      <td>2019-12-31</td>\n",
       "    </tr>\n",
       "  </tbody>\n",
       "</table>\n",
       "</div>"
      ],
      "text/plain": [
       "   Unnamed: 0                                              title   selftext  \\\n",
       "0           2                                Tech Trends in 2020  [removed]   \n",
       "1           5     Universal Split Screen KB&amp;M + 1 Controller  [removed]   \n",
       "2           9                                            Voip.ms  [removed]   \n",
       "3          18             Magento E-commerce Development Company  [removed]   \n",
       "4          28  Dell Inspiron i3-7878 - passes all diagnostics...  [removed]   \n",
       "\n",
       "    subreddit  created_utc          author  num_comments  score  is_self  \\\n",
       "0  technology   1577819103        EPTechCG             2      1     True   \n",
       "1  technology   1577821148        AE_Rulez             1      1     True   \n",
       "2  technology   1577822621  don_s-Canadian             2      1     True   \n",
       "3  technology   1577825383      brookeB111             2      1     True   \n",
       "4  technology   1577827820         ZheeDog             1      1     True   \n",
       "\n",
       "    timestamp  \n",
       "0  2019-12-31  \n",
       "1  2019-12-31  \n",
       "2  2019-12-31  \n",
       "3  2019-12-31  \n",
       "4  2019-12-31  "
      ]
     },
     "execution_count": 6,
     "metadata": {},
     "output_type": "execute_result"
    }
   ],
   "source": [
    "# Looking at data in first subreddit\n",
    "# Assigned to another variable so we can go back to look at\n",
    "combined_original = combined\n",
    "combined.head()"
   ]
  },
  {
   "cell_type": "markdown",
   "metadata": {},
   "source": [
    "## Data Cleaning"
   ]
  },
  {
   "cell_type": "markdown",
   "metadata": {},
   "source": [
    "There are nulls in selftext. It does not matter to us because we are just looking at the title and subreddit."
   ]
  },
  {
   "cell_type": "code",
   "execution_count": 7,
   "metadata": {},
   "outputs": [
    {
     "data": {
      "text/plain": [
       "Unnamed: 0       0\n",
       "title            0\n",
       "selftext        63\n",
       "subreddit        0\n",
       "created_utc      0\n",
       "author           0\n",
       "num_comments     0\n",
       "score            0\n",
       "is_self          0\n",
       "timestamp        0\n",
       "dtype: int64"
      ]
     },
     "execution_count": 7,
     "metadata": {},
     "output_type": "execute_result"
    }
   ],
   "source": [
    "combined.isnull().sum()"
   ]
  },
  {
   "cell_type": "code",
   "execution_count": 8,
   "metadata": {
    "scrolled": true
   },
   "outputs": [
    {
     "data": {
      "text/plain": [
       "Unnamed: 0       int64\n",
       "title           object\n",
       "selftext        object\n",
       "subreddit       object\n",
       "created_utc      int64\n",
       "author          object\n",
       "num_comments     int64\n",
       "score            int64\n",
       "is_self           bool\n",
       "timestamp       object\n",
       "dtype: object"
      ]
     },
     "execution_count": 8,
     "metadata": {},
     "output_type": "execute_result"
    }
   ],
   "source": [
    "# To see data type\n",
    "# Subreddit will need to be assigned to numbers for train test split\n",
    "combined.dtypes"
   ]
  },
  {
   "cell_type": "markdown",
   "metadata": {},
   "source": [
    "There are no nulls in our data for the valus that matter to us. For selftext, there are some rows with [removed]. This is not a concern to us as we will compare title and subreddit. This Selftext will not be cleaned."
   ]
  },
  {
   "cell_type": "code",
   "execution_count": 9,
   "metadata": {},
   "outputs": [],
   "source": [
    "# This function is to clean the data. It will make all the text\n",
    "# lowercase, remove HTMLs, remove whitespace (new line characters)\n",
    "# Lemmatize is making each word the root word in the dictionary.\n",
    "wnl = WordNetLemmatizer()\n",
    "def clean_text(text): \n",
    "    #print(text)\n",
    "    # To lowercase\n",
    "    text = text.lower() \n",
    "    # Remove HTML special entities (e.g. &amp;)    \n",
    "    text = re.sub(r'\\&\\w*;', '', text)     \n",
    "    text = re.sub(r'\\s\\s+', ' ', text) # Remove whitespace (including new line characters)        \n",
    "    text = re.sub(r'https?:\\/\\/.*\\/\\w*', '', text)\n",
    "    \n",
    "    words = text.split()\n",
    "        #print(words)\n",
    "\n",
    "    words_2 = []\n",
    "\n",
    "    for word in words: \n",
    "        word_2 = wnl.lemmatize(word)\n",
    "            #if word != word_2:\n",
    "                #print(word,word_2)\n",
    "        words_2.append(word_2)      \n",
    "\n",
    "    output = ' '.join(words_2)\n",
    "        #print(output)\n",
    "    return output"
   ]
  },
  {
   "cell_type": "code",
   "execution_count": 10,
   "metadata": {},
   "outputs": [],
   "source": [
    "# Use the clean_text function to clean the data\n",
    "combined['title'] = combined['title'].apply(clean_text)"
   ]
  },
  {
   "cell_type": "markdown",
   "metadata": {},
   "source": [
    "## Exploratory Data Analysis (EDA)"
   ]
  },
  {
   "cell_type": "code",
   "execution_count": 11,
   "metadata": {},
   "outputs": [],
   "source": [
    "# https://github.com/amreshsharma/Machine-Learning/blob/master/NLP/Twitter%20Sentiment%20Analysis/sentiment_twitter_analysis.py\n",
    "\n",
    "# print top words in df and most common words\n",
    "def common_words(df, column, name):\n",
    "\n",
    "    cvec = CountVectorizer(stop_words='english')\n",
    "    cvec.fit(df[column])\n",
    "\n",
    "    len_features = len(cvec.get_feature_names())\n",
    "    #print('Total Word Count: ' + str(len_features))\n",
    "\n",
    "    df_cvec = pd.DataFrame(cvec.transform(df[column]).todense(),columns=cvec.get_feature_names())\n",
    "\n",
    "    common_column = df_cvec.sum(axis=0)\n",
    "    print(str(common_column.sort_values(ascending = False).head(20)))\n",
    "    name = common_column.sort_values(ascending = False)\n",
    "    return name\n",
    "    #return common_column \n"
   ]
  },
  {
   "cell_type": "markdown",
   "metadata": {},
   "source": [
    "Flying and technology will be added to the stop word list as they are words that are the names\n",
    "of the categories. This could help our model but it could also help the mode by \"cheating\". The words were removed to give more true results."
   ]
  },
  {
   "cell_type": "code",
   "execution_count": 12,
   "metadata": {},
   "outputs": [
    {
     "name": "stdout",
     "output_type": "stream",
     "text": [
      "market         42\n",
      "help           37\n",
      "technology     28\n",
      "best           25\n",
      "need           19\n",
      "tech           18\n",
      "app            15\n",
      "facebook       15\n",
      "new            14\n",
      "development    14\n",
      "phone          13\n",
      "amp            13\n",
      "company        11\n",
      "microsoft      11\n",
      "use            11\n",
      "question       11\n",
      "2020           11\n",
      "2019           10\n",
      "apple          10\n",
      "10             10\n",
      "dtype: int64\n"
     ]
    }
   ],
   "source": [
    "# Show top 20 words for subreddit 1\n",
    "com_words_1=common_words(subreddit1, 'title', 'common_words_subreddit1');"
   ]
  },
  {
   "cell_type": "code",
   "execution_count": 13,
   "metadata": {},
   "outputs": [
    {
     "name": "stdout",
     "output_type": "stream",
     "text": [
      "pilot         161\n",
      "flight        160\n",
      "flying        102\n",
      "question       84\n",
      "ppl            83\n",
      "school         69\n",
      "checkride      68\n",
      "pilots         67\n",
      "cfi            65\n",
      "aviation       62\n",
      "time           55\n",
      "commercial     53\n",
      "medical        53\n",
      "advice         51\n",
      "help           49\n",
      "looking        45\n",
      "training       42\n",
      "need           41\n",
      "plane          41\n",
      "fly            40\n",
      "dtype: int64\n"
     ]
    }
   ],
   "source": [
    "com_words_2=common_words(subreddit2, 'title', 'common_words_subreddit2');"
   ]
  },
  {
   "cell_type": "code",
   "execution_count": 14,
   "metadata": {},
   "outputs": [
    {
     "name": "stdout",
     "output_type": "stream",
     "text": [
      "market         42\n",
      "help           37\n",
      "technology     28\n",
      "best           25\n",
      "need           19\n",
      "tech           18\n",
      "app            15\n",
      "facebook       15\n",
      "new            14\n",
      "development    14\n",
      "phone          13\n",
      "amp            13\n",
      "company        11\n",
      "microsoft      11\n",
      "use            11\n",
      "question       11\n",
      "2020           11\n",
      "2019           10\n",
      "apple          10\n",
      "10             10\n",
      "dtype: int64\n"
     ]
    }
   ],
   "source": [
    "com_words=common_words(subreddit1, 'title', 'combined');"
   ]
  },
  {
   "cell_type": "markdown",
   "metadata": {},
   "source": [
    "We can see the most common words below for each subreddit. For subreddit 1, we can see specific words for technology such as app and development. For subreddit 2, we can see that there are word specific for flying such as pilot and aviation. Technolog and flying will need to be removed to avoid leakage into our model."
   ]
  },
  {
   "cell_type": "code",
   "execution_count": 15,
   "metadata": {},
   "outputs": [
    {
     "data": {
      "text/plain": [
       "Text(0, 0.5, 'Word Count')"
      ]
     },
     "execution_count": 15,
     "metadata": {},
     "output_type": "execute_result"
    },
    {
     "data": {
      "image/png": "[encoded data removed]",
      "text/plain": [
       "<Figure size 720x432 with 1 Axes>"
      ]
     },
     "metadata": {},
     "output_type": "display_data"
    }
   ],
   "source": [
    "plt.figure(figsize=(10,6))\n",
    "sns.barplot(y=com_words_1.index[:10], x=com_words[:10], palette = ('dark'), orient='h')\n",
    "sns.set(style='darkgrid')\n",
    "plt.title('Most Common Words Subreddit 1', fontsize=16)\n",
    "plt.xlabel(xlabel='Common Words', fontsize=16)\n",
    "plt.ylabel(ylabel='Word Count', fontsize=16)"
   ]
  },
  {
   "cell_type": "code",
   "execution_count": 16,
   "metadata": {},
   "outputs": [
    {
     "data": {
      "text/plain": [
       "Text(0, 0.5, 'Word Count')"
      ]
     },
     "execution_count": 16,
     "metadata": {},
     "output_type": "execute_result"
    },
    {
     "data": {
      "image/png": "[encoded data removed]",
      "text/plain": [
       "<Figure size 720x432 with 1 Axes>"
      ]
     },
     "metadata": {},
     "output_type": "display_data"
    }
   ],
   "source": [
    "plt.figure(figsize=(10,6))\n",
    "sns.barplot(y=com_words_2.index[:10], x=com_words[:10], palette = ('dark'), orient='h')\n",
    "sns.set(style='darkgrid')\n",
    "plt.title('Most Common Words Subreddit 2', fontsize=16)\n",
    "plt.xlabel(xlabel='Common Words', fontsize=16)\n",
    "plt.ylabel(ylabel='Word Count', fontsize=16)"
   ]
  },
  {
   "cell_type": "code",
   "execution_count": 17,
   "metadata": {},
   "outputs": [
    {
     "data": {
      "text/plain": [
       "Text(0, 0.5, 'Word Count')"
      ]
     },
     "execution_count": 17,
     "metadata": {},
     "output_type": "execute_result"
    },
    {
     "data": {
      "image/png": "[encoded data removed]",
      "text/plain": [
       "<Figure size 720x432 with 1 Axes>"
      ]
     },
     "metadata": {},
     "output_type": "display_data"
    }
   ],
   "source": [
    "plt.figure(figsize=(10,6))\n",
    "sns.barplot(y=com_words.index[:10], x=com_words[:10], palette = ('dark'), orient='h')\n",
    "sns.set(style='darkgrid')\n",
    "plt.title('Most Common Words Both', fontsize=16)\n",
    "plt.xlabel(xlabel='Common Words', fontsize=16)\n",
    "plt.ylabel(ylabel='Word Count', fontsize=16)"
   ]
  },
  {
   "cell_type": "code",
   "execution_count": 19,
   "metadata": {},
   "outputs": [],
   "source": [
    "# Add stop words to the stop words with English\n",
    "stopwords1 = nltk.corpus.stopwords.words('english').append(['flying', 'technology'])"
   ]
  },
  {
   "cell_type": "markdown",
   "metadata": {},
   "source": [
    "Flying and technology were added to stop words so the names of the category of the subreddit is not in the data. This will help us refine our model better as it does prevent the model from cheating."
   ]
  },
  {
   "cell_type": "code",
   "execution_count": 20,
   "metadata": {},
   "outputs": [],
   "source": [
    "# Mapping the subreddit column with integers\n",
    "subreddit = {'technology': 0, 'flying': 1 }\n",
    "combined['subreddit'] = combined['subreddit'].map(subreddit)"
   ]
  },
  {
   "cell_type": "markdown",
   "metadata": {},
   "source": [
    "## Model Preparation"
   ]
  },
  {
   "cell_type": "markdown",
   "metadata": {},
   "source": [
    "The first test with max features, it says the best features is at 500 \n",
    "\n",
    "Test 1: Train = 0.8885, Test = 0.8521 (100, 200) features\n",
    "Test 2: Train = 0.9236, Test = 0.8688 (100, 500) features\n",
    "Test 3: Train = 0.9735, Test = 0.8724 (100, 1000) features\n",
    "Test 4: Train = 0.9648, Test = 0.8706 (100, 3787) features"
   ]
  },
  {
   "cell_type": "code",
   "execution_count": 21,
   "metadata": {},
   "outputs": [],
   "source": [
    "# Assigning X and y to be used for train test\n",
    "X = combined['title']\n",
    "y =combined['subreddit']\n",
    "X_train, X_test, y_train, y_test = train_test_split(X, y, stratify = y) \n"
   ]
  },
  {
   "cell_type": "code",
   "execution_count": 59,
   "metadata": {},
   "outputs": [
    {
     "data": {
      "text/plain": [
       "1    0.771171\n",
       "0    0.228829\n",
       "Name: subreddit, dtype: float64"
      ]
     },
     "execution_count": 59,
     "metadata": {},
     "output_type": "execute_result"
    }
   ],
   "source": [
    "y_test.value_counts(normalize=True)\n",
    "#pd.Series(gs_model_cvec.predict(X_test)).value_counts()"
   ]
  },
  {
   "cell_type": "markdown",
   "metadata": {},
   "source": [
    "## Modeling\n",
    "\n",
    "We made two models, each being tested with two vectorizers for train test split. I used Logistic Regression and MultinomialNB for my models and Count Vectorizer and TfidfVectorizer for my vectorizers."
   ]
  },
  {
   "cell_type": "markdown",
   "metadata": {},
   "source": [
    "### Baseline Model"
   ]
  },
  {
   "cell_type": "markdown",
   "metadata": {},
   "source": [
    "\n"
   ]
  },
  {
   "cell_type": "code",
   "execution_count": 60,
   "metadata": {},
   "outputs": [
    {
     "name": "stdout",
     "output_type": "stream",
     "text": [
      "Train baseline accuracy: 0.7702946482260974\n",
      "Test baseline accuracy: 0.7711711711711712\n"
     ]
    }
   ],
   "source": [
    "#Baseline model\n",
    "print('Train baseline accuracy: ' + str(y_train.value_counts(normalize=True).max()))\n",
    "print('Test baseline accuracy: ' + str(y_test.value_counts(normalize=True).max()))"
   ]
  },
  {
   "cell_type": "markdown",
   "metadata": {},
   "source": [
    "### Logistic Regression"
   ]
  },
  {
   "cell_type": "markdown",
   "metadata": {},
   "source": [
    "Logistic Regression and Count Vectorizer is our best model as our test score is good. Our sensitivity score is good at 98.1% which means we are predicting our true positives well. This model always has the most true positivtes and false positives combined which is good for the marketing team as this will minimize marketing to the wrong people."
   ]
  },
  {
   "cell_type": "code",
   "execution_count": 61,
   "metadata": {},
   "outputs": [
    {
     "name": "stdout",
     "output_type": "stream",
     "text": [
      "Train score:0.9410703547805171\n",
      "Test score:0.8612612612612612\n"
     ]
    }
   ],
   "source": [
    "#1200- 95, 89 600- .92, .89\n",
    "pipe_cvec = Pipeline([\n",
    "    ('cvec', CountVectorizer()),\n",
    "    ('lr', LogisticRegression(solver='liblinear'))\n",
    "])\n",
    "pipe_cvec.fit(X_train, y_train)\n",
    "pipe_params = {\n",
    "    'cvec__max_features': np.arange(500,650,20), # Comment changes # Should be tested in ranges\n",
    "    'cvec__stop_words':[None, stopwords1],\n",
    "    'cvec__ngram_range': [(1,1), (1,2)]} # binary predction, tp rate, f1 score, metric to maximize \n",
    "gs_cvec = GridSearchCV(pipe_cvec, #binomial, gaussian, support vector, decision tree\n",
    "            pipe_params, cv=5) # Search metric/change\n",
    "gs_cvec.fit(X_train, y_train);\n",
    "\n",
    "gs_model_cvec = gs_cvec.best_estimator_\n",
    "#print('Estimator:' + str(gs_model_cvec)) # Commented out, shows best max_features\n",
    "print('Train score:' + str(gs_model_cvec.score(X_train, y_train))) \n",
    "print('Test score:' + str(gs_model_cvec.score(X_test, y_test)))"
   ]
  },
  {
   "cell_type": "code",
   "execution_count": 62,
   "metadata": {},
   "outputs": [
    {
     "data": {
      "text/plain": [
       "array([0.87297297, 0.86197564, 0.86062246])"
      ]
     },
     "execution_count": 62,
     "metadata": {},
     "output_type": "execute_result"
    }
   ],
   "source": [
    "# Splitting data and giving us results for a score\n",
    "# 3 was choosen as our data is not that big.\n",
    "cross_val_score(gs_model_cvec, X, y, cv=3)"
   ]
  },
  {
   "cell_type": "code",
   "execution_count": 63,
   "metadata": {},
   "outputs": [
    {
     "name": "stdout",
     "output_type": "stream",
     "text": [
      "True Positives: 424\n",
      "False Positives: 73\n",
      "False Negatives: 4\n",
      "True Negatives: 54\n",
      "Sensitivity: 0.9907\n"
     ]
    }
   ],
   "source": [
    "y_pred = gs_model_cvec.predict(X_test) #For matrix below, repetivie from previous cell but to keep consistency\n",
    "tn, fp, fn, tp = confusion_matrix(y_test, y_pred).ravel()\n",
    "\n",
    "print(\"True Positives: %s\" % tp)\n",
    "print(\"False Positives: %s\" % fp)\n",
    "print(\"False Negatives: %s\" % fn)\n",
    "print(\"True Negatives: %s\" % tn)\n",
    "\n",
    "# confusion matrix metrics\n",
    "\n",
    "#accuracy = (tp+tn)/(tp+fp+fn+tn)\n",
    "sensitivity = tp/(tp+fn)\n",
    "#specificity = tn/(tn+fp)\n",
    "#precision = tp/(tp+fp)\n",
    "\n",
    "#print('Accuracy:',round(accuracy,4))\n",
    "print('Sensitivity:',round(sensitivity,4))\n",
    "#print('Specificity:',round(specificity,4))\n",
    "#print('Precision:',round(precision,4))"
   ]
  },
  {
   "cell_type": "code",
   "execution_count": 64,
   "metadata": {},
   "outputs": [
    {
     "name": "stdout",
     "output_type": "stream",
     "text": [
      "Train score:0.8875526157546603\n",
      "Test score:0.8378378378378378\n"
     ]
    }
   ],
   "source": [
    "# 600 .9, .88 \n",
    "pipe_tf = Pipeline([\n",
    "    ('tf', TfidfVectorizer()),\n",
    "    ('lr', LogisticRegression(solver='liblinear'))\n",
    "])\n",
    "pipe_tf.fit(X_train, y_train)\n",
    "pipe_params = {\n",
    "    'tf__max_features': np.arange(500,650,20), # Comment changes # Should be tested in ranges\n",
    "    'tf__stop_words':[None, stopwords1],\n",
    "    'tf__ngram_range': [(1,1), (1,2)]} # binary predction, tp rate, f1 score, metric to maximize \n",
    "gs_tf = GridSearchCV(pipe_tf, #binomial, gaussian, support vector, decision tree\n",
    "            pipe_params, cv=5) # Search metric/change\n",
    "gs_tf.fit(X_train, y_train);\n",
    "\n",
    "gs_model_tf = gs_tf.best_estimator_\n",
    "#print('Estimator:' + str(gs_model_tf)) # Shows best estimator \n",
    "print('Train score:' + str(gs_model_tf.score(X_train, y_train))) # baseline score- proportion\n",
    "print('Test score:' + str(gs_model_tf.score(X_test, y_test)))# Need to put accuracy"
   ]
  },
  {
   "cell_type": "code",
   "execution_count": 65,
   "metadata": {},
   "outputs": [
    {
     "data": {
      "text/plain": [
       "0.8376921576515622"
      ]
     },
     "execution_count": 65,
     "metadata": {},
     "output_type": "execute_result"
    }
   ],
   "source": [
    "cross_val_score(gs_model_tf, X, y, cv=3).mean()"
   ]
  },
  {
   "cell_type": "code",
   "execution_count": 66,
   "metadata": {},
   "outputs": [
    {
     "name": "stdout",
     "output_type": "stream",
     "text": [
      "True Positives: 427\n",
      "False Positives: 89\n",
      "False Negatives: 1\n",
      "True Negatives: 38\n",
      "Sensitivity: 0.9977\n"
     ]
    }
   ],
   "source": [
    "y_pred = gs_model_tf.predict(X_test)\n",
    "# create confusion matrix\n",
    "\n",
    "tn, fp, fn, tp = confusion_matrix(y_test, y_pred).ravel()\n",
    "\n",
    "print(\"True Positives: %s\" % tp)\n",
    "print(\"False Positives: %s\" % fp)\n",
    "print(\"False Negatives: %s\" % fn)\n",
    "print(\"True Negatives: %s\" % tn)\n",
    "\n",
    "# confusion matrix metrics\n",
    "\n",
    "#accuracy = (tp+tn)/(tp+fp+fn+tn)\n",
    "sensitivity = tp/(tp+fn)\n",
    "#specificity = tn/(tn+fp)\n",
    "#precision = tp/(tp+fp)\n",
    "\n",
    "#print('Accuracy:',round(accuracy,4))\n",
    "print('Sensitivity:',round(sensitivity,4))\n",
    "#print('Specificity:',round(specificity,4))\n",
    "#print('Precision:',round(precision,4))"
   ]
  },
  {
   "cell_type": "markdown",
   "metadata": {},
   "source": [
    "### MultinomialNB\n"
   ]
  },
  {
   "cell_type": "code",
   "execution_count": 67,
   "metadata": {},
   "outputs": [
    {
     "name": "stdout",
     "output_type": "stream",
     "text": [
      "Train score:0.8977751052315093\n",
      "Test score:0.8522522522522522\n"
     ]
    }
   ],
   "source": [
    "mnb_tf = Pipeline(steps=[\n",
    "    ('tf', TfidfVectorizer()),\n",
    "    ('mnb', MultinomialNB())\n",
    "])\n",
    "\n",
    "\n",
    "pipe_tf.fit(X_train, y_train)\n",
    "pipe_params = {\n",
    "    'tf__max_features': np.arange(400,600, 20), # Comment changes\n",
    "    'tf__stop_words':[None, stopwords1],\n",
    "    'tf__ngram_range': [(1,2),(1,1)], \n",
    "    'mnb__alpha': [1]}\n",
    "gs_tf = GridSearchCV(mnb_tf,\n",
    "            param_grid=\n",
    "            pipe_params, cv=5)\n",
    "\n",
    "gs_tf.fit(X_train, y_train);\n",
    "\n",
    "gs_model_tf = gs_tf.best_estimator_\n",
    "#print('Estimator:' + str(gs_model_tf)) # Shows best estimator \n",
    "print('Train score:' + str(gs_model_tf.score(X_train, y_train)))\n",
    "print('Test score:' + str(gs_model_tf.score(X_test, y_test)))"
   ]
  },
  {
   "cell_type": "code",
   "execution_count": 68,
   "metadata": {},
   "outputs": [
    {
     "data": {
      "text/plain": [
       "0.8476106011288692"
      ]
     },
     "execution_count": 68,
     "metadata": {},
     "output_type": "execute_result"
    }
   ],
   "source": [
    "cross_val_score(gs_model_tf, X, y, cv=3).mean()"
   ]
  },
  {
   "cell_type": "code",
   "execution_count": 69,
   "metadata": {},
   "outputs": [
    {
     "name": "stdout",
     "output_type": "stream",
     "text": [
      "True Positives: 426\n",
      "False Positives: 80\n",
      "False Negatives: 2\n",
      "True Negatives: 47\n",
      "Sensitivity: 0.9953\n"
     ]
    }
   ],
   "source": [
    "#confusion_matrix(y_test, y_pred)\n",
    "y_pred = gs_model_tf.predict(X_test)\n",
    "# create confusion matrix\n",
    "\n",
    "tn, fp, fn, tp = confusion_matrix(y_test, y_pred).ravel()\n",
    "\n",
    "print(\"True Positives: %s\" % tp)\n",
    "print(\"False Positives: %s\" % fp)\n",
    "print(\"False Negatives: %s\" % fn)\n",
    "print(\"True Negatives: %s\" % tn)\n",
    "\n",
    "# confusion matrix metrics\n",
    "\n",
    "#accuracy = (tp+tn)/(tp+fp+fn+tn)\n",
    "sensitivity = tp/(tp+fn)\n",
    "#specificity = tn/(tn+fp)\n",
    "#precision = tp/(tp+fp)\n",
    "\n",
    "#print('Accuracy:',round(accuracy,4))\n",
    "print('Sensitivity:',round(sensitivity,4))\n",
    "#print('Specificity:',round(specificity,4))\n",
    "#print('Precision:',round(precision,4))"
   ]
  },
  {
   "cell_type": "code",
   "execution_count": 70,
   "metadata": {},
   "outputs": [
    {
     "name": "stdout",
     "output_type": "stream",
     "text": [
      "Train score:0.9488875526157546\n",
      "Test score:0.8792792792792793\n"
     ]
    }
   ],
   "source": [
    "# 900 .93 .90 1500 .95, .90\n",
    "mnb_cvec = Pipeline(steps=[\n",
    "    ('cvec', CountVectorizer()),\n",
    "    ('mnb', MultinomialNB())\n",
    "])\n",
    "\n",
    "pipe_params = {\n",
    "    'cvec__max_features': np.arange(1200,1450, 20), # Comment changes\n",
    "    'cvec__stop_words':[None, stopwords1],\n",
    "    'cvec__ngram_range': [(1,2),(1,1)], \n",
    "    'mnb__alpha': [1]}\n",
    "gs_cvec = GridSearchCV(mnb_cvec,\n",
    "            param_grid=\n",
    "            pipe_params, cv=5)\n",
    "\n",
    "gs_cvec.fit(X_train, y_train);\n",
    "\n",
    "gs_model_cvec = gs_cvec.best_estimator_\n",
    "#print('Estimator:' + str(gs_model_cvec)) # Shows best estimator \n",
    "print('Train score:' + str(gs_model_cvec.score(X_train, y_train)))\n",
    "print('Test score:' + str(gs_model_cvec.score(X_test, y_test)))\n",
    "\n",
    "y_test_lr_cvec = y_test\n",
    "y_pred = gs_model_cvec.predict(X_test) # For matrix below\n",
    "y_pred_lr_cvec = y_pred # For matrix below"
   ]
  },
  {
   "cell_type": "code",
   "execution_count": 71,
   "metadata": {},
   "outputs": [
    {
     "data": {
      "text/plain": [
       "0.8823288105426129"
      ]
     },
     "execution_count": 71,
     "metadata": {},
     "output_type": "execute_result"
    }
   ],
   "source": [
    "cross_val_score(gs_model_cvec, X, y, cv=3).mean()"
   ]
  },
  {
   "cell_type": "code",
   "execution_count": 72,
   "metadata": {},
   "outputs": [
    {
     "name": "stdout",
     "output_type": "stream",
     "text": [
      "True Positives: 415\n",
      "False Positives: 54\n",
      "False Negatives: 13\n",
      "True Negatives: 73\n",
      "Sensitivity: 0.9696\n"
     ]
    }
   ],
   "source": [
    "#confusion_matrix(y_test, y_pred)\n",
    "y_pred = gs_model_cvec.predict(X_test)\n",
    "# create confusion matrix\n",
    "\n",
    "tn, fp, fn, tp = confusion_matrix(y_test, y_pred).ravel()\n",
    "\n",
    "print(\"True Positives: %s\" % tp)\n",
    "print(\"False Positives: %s\" % fp)\n",
    "print(\"False Negatives: %s\" % fn)\n",
    "print(\"True Negatives: %s\" % tn)\n",
    "\n",
    "# confusion matrix metrics\n",
    "\n",
    "#accuracy = (tp+tn)/(tp+fp+fn+tn)\n",
    "sensitivity = tp/(tp+fn)\n",
    "specificity = tn/(tn+fp)\n",
    "#precision = tp/(tp+fp)\n",
    "\n",
    "#print('Accuracy:',round(accuracy,4))\n",
    "print('Sensitivity:',round(sensitivity,4))\n",
    "#print('Specificity:',round(specificity,4))\n",
    "#print('Precision:',round(precision,4))"
   ]
  },
  {
   "cell_type": "code",
   "execution_count": 73,
   "metadata": {},
   "outputs": [
    {
     "data": {
      "text/plain": [
       "<matplotlib.legend.Legend at 0x1a26d93908>"
      ]
     },
     "execution_count": 73,
     "metadata": {},
     "output_type": "execute_result"
    },
    {
     "data": {
      "image/png": "[encoded data removed]",
      "text/plain": [
       "<Figure size 432x288 with 1 Axes>"
      ]
     },
     "metadata": {},
     "output_type": "display_data"
    }
   ],
   "source": [
    "probs = gs_cvec.predict(X_test)\n",
    "preds = probs\n",
    "fpr, tpr, threshold = metrics.roc_curve(y_test, preds)\n",
    "roc_auc = metrics.auc(fpr, tpr)\n",
    "plt.plot(fpr, tpr, 'b', label = 'AUC = %0.2f' % roc_auc)\n",
    "plt.legend(loc = 'lower right')"
   ]
  },
  {
   "cell_type": "markdown",
   "metadata": {},
   "source": [
    "The ROC graph above shows us how well our classifier shows between classes. This graph could be imporved and the linecan be pushed more towards the top left corner for better predictions between classes. An excellent graph has a AUC (area under the curve of 1). This graph is 0.79."
   ]
  },
  {
   "cell_type": "markdown",
   "metadata": {},
   "source": [
    "## Model Selection"
   ]
  },
  {
   "cell_type": "markdown",
   "metadata": {},
   "source": [
    "The train and test score are overfit as there is a .04 difference.\n",
    "The count val score shows us that it is very close to the test score. \n",
    "The best model is Logistic Regressresion with count Vectorizer. The way that I made the train score increase and decrease false positives was by looking at the max features and adjusting it. We adjusted it accordingly with the best estimator. count validation was looked at to make sure our model was doing well\n",
    "We have a true positive of 415 which we want to maximize and false negative of 37 which we want to minimize. Our sensitivity score is 97.43% which means we can predict 97.43% of people who are from each subreddit correcly. It is important to have a higher true positive than false negative but it is more important to have less false positive as we don't want to waste money marketing to people who are not in the correct category This is good as it predicts the most number of true positives and the least number of false negative. This would let the marketing team market to the incorrect people which could waste their money as they would be marketing to the wrong group."
   ]
  },
  {
   "cell_type": "markdown",
   "metadata": {},
   "source": [
    "## Model Evaluation "
   ]
  },
  {
   "cell_type": "code",
   "execution_count": 74,
   "metadata": {},
   "outputs": [],
   "source": [
    "def pretty_confusion_matrix(y_true, y_pred):\n",
    "    \n",
    "    cm = confusion_matrix(y_true, y_pred)\n",
    "    labels = y_true.unique()\n",
    "    labels.sort()\n",
    "    linewidth=.23\n",
    "    \n",
    "    sns.set(font_scale=1.2)\n",
    "    plt.figure(figsize=(10,8))\n",
    "    \n",
    "    sns.heatmap(cm, annot=True, fmt='g', cmap=\"YlGnBu\",xticklabels=labels, yticklabels=labels)\n",
    "    plt.title(\"Confusion Matrix for Logistic Regression and CountVectorizer\")\n",
    "    plt.xlabel('Predicted Class')\n",
    "    plt.ylabel('True Class')\n",
    "    b, t = plt.ylim() \n",
    "    b += 0.5 \n",
    "    t -= 0.5 \n",
    "    plt.ylim(b, t) "
   ]
  },
  {
   "cell_type": "code",
   "execution_count": 75,
   "metadata": {
    "scrolled": true
   },
   "outputs": [
    {
     "data": {
      "image/png": "[encoded data removed]",
      "text/plain": [
       "<Figure size 720x576 with 2 Axes>"
      ]
     },
     "metadata": {},
     "output_type": "display_data"
    }
   ],
   "source": [
    "pretty_confusion_matrix(y_test_lr_cvec, y_pred_lr_cvec)"
   ]
  },
  {
   "cell_type": "markdown",
   "metadata": {},
   "source": [
    "## Conclusion\n",
    "We are able to predict which subreddit a person comes from 89% correctly, we can confidently say that we can differentiate between the two subreddits, flying and technology. We have a sensitivity of 97% which means we are prediciting our true positives, the subreddit that the person comes from, correctly 97%. This is good as we want to maximize the number of people that the marketing team can use to market to the their audience from each subreddit. This can help increase awareness about the cadet program with the ultimate goal of having people sign up for the cadet program. This will be able to help decrease the shortage of airline pilots in the future."
   ]
  },
  {
   "cell_type": "markdown",
   "metadata": {},
   "source": [
    "## Recommendations\n",
    "I would recomend taking this model and starting with a small group to market to. If there is a higher response rate, I would increase the market spending."
   ]
  },
  {
   "cell_type": "markdown",
   "metadata": {},
   "source": [
    "## References\n",
    "\n",
    "-  https://bearylogical.net/post/ml-subreddit/#pipeline-for-logistic-regression-baseline\n",
    "-  https://github.com/amreshsharma/Machine-Learning/blob/master/NLP/Twitter%20Sentiment%20Analysis/sentiment_twitter_analysis.py"
   ]
  }
 ],
 "metadata": {
  "kernelspec": {
   "display_name": "Python 3",
   "language": "python",
   "name": "python3"
  },
  "language_info": {
   "codemirror_mode": {
    "name": "ipython",
    "version": 3
   },
   "file_extension": ".py",
   "mimetype": "text/x-python",
   "name": "python",
   "nbconvert_exporter": "python",
   "pygments_lexer": "ipython3",
   "version": "3.6.4"
  },
  "toc": {
   "base_numbering": 1,
   "nav_menu": {},
   "number_sections": true,
   "sideBar": true,
   "skip_h1_title": false,
   "title_cell": "Table of Contents",
   "title_sidebar": "Contents",
   "toc_cell": false,
   "toc_position": {
    "height": "calc(100% - 180px)",
    "left": "10px",
    "top": "150px",
    "width": "341px"
   },
   "toc_section_display": true,
   "toc_window_display": true
  }
 },
 "nbformat": 4,
 "nbformat_minor": 2
}
