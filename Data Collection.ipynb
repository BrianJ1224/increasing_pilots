{
 "cells": [
  {
   "cell_type": "code",
   "execution_count": 1,
   "metadata": {},
   "outputs": [],
   "source": [
    "import pandas as pd\n",
    "import datetime as dt\n",
    "import time\n",
    "import requests\n",
    "import nltk"
   ]
  },
  {
   "cell_type": "code",
   "execution_count": 2,
   "metadata": {},
   "outputs": [],
   "source": [
    "def query_pushshift(subreddit, kind = 'submission', day_window = 30, n = 5):\n",
    "    SUBFIELDS = ['title', 'selftext', 'subreddit', 'created_utc', 'author', 'num_comments', 'score', 'is_self']\n",
    "    \n",
    "    # establish base url and stem\n",
    "    BASE_URL = f\"https://api.pushshift.io/reddit/search/{kind}\" # also known as the \"API endpoint\" \n",
    "    stem = f\"{BASE_URL}?subreddit={subreddit}&size=500\" # always pulling max of 500\n",
    "    \n",
    "    # instantiate empty list for temp storage\n",
    "    posts = []\n",
    "    \n",
    "    # implement for loop with `time.sleep(2)`\n",
    "    for i in range(1, n + 1):\n",
    "        URL = \"{}&after={}d\".format(stem, day_window * i)\n",
    "        print(\"Querying from: \" + URL)\n",
    "        response = requests.get(URL)\n",
    "        assert response.status_code == 200\n",
    "        mine = response.json()['data']\n",
    "        df = pd.DataFrame.from_dict(mine)\n",
    "        posts.append(df)\n",
    "        time.sleep(2)\n",
    "    \n",
    "    # pd.concat storage list\n",
    "    full = pd.concat(posts, sort=False)\n",
    "    \n",
    "    # if submission\n",
    "    if kind == \"submission\":\n",
    "        # select desired columns\n",
    "        full = full[SUBFIELDS]\n",
    "        # drop duplicates\n",
    "        full.drop_duplicates(inplace = True)\n",
    "        # select `is_self` == True\n",
    "        full = full.loc[full['is_self'] == True]\n",
    "\n",
    "    # create `timestamp` column\n",
    "    full['timestamp'] = full[\"created_utc\"].map(dt.date.fromtimestamp)\n",
    "    \n",
    "    print(\"Query Complete!\")    \n",
    "    return full "
   ]
  },
  {
   "cell_type": "code",
   "execution_count": 3,
   "metadata": {},
   "outputs": [
    {
     "name": "stdout",
     "output_type": "stream",
     "text": [
      "Querying from: https://api.pushshift.io/reddit/search/submission?subreddit=technology&size=500&after=30d\n",
      "Querying from: https://api.pushshift.io/reddit/search/submission?subreddit=technology&size=500&after=60d\n",
      "Querying from: https://api.pushshift.io/reddit/search/submission?subreddit=technology&size=500&after=90d\n",
      "Querying from: https://api.pushshift.io/reddit/search/submission?subreddit=technology&size=500&after=120d\n",
      "Querying from: https://api.pushshift.io/reddit/search/submission?subreddit=technology&size=500&after=150d\n",
      "Query Complete!\n",
      "Querying from: https://api.pushshift.io/reddit/search/submission?subreddit=flying&size=500&after=30d\n",
      "Querying from: https://api.pushshift.io/reddit/search/submission?subreddit=flying&size=500&after=60d\n",
      "Querying from: https://api.pushshift.io/reddit/search/submission?subreddit=flying&size=500&after=90d\n",
      "Querying from: https://api.pushshift.io/reddit/search/submission?subreddit=flying&size=500&after=120d\n",
      "Querying from: https://api.pushshift.io/reddit/search/submission?subreddit=flying&size=500&after=150d\n",
      "Query Complete!\n"
     ]
    }
   ],
   "source": [
    "subreddit1 = 'technology'\n",
    "subreddit_1 = query_pushshift(subreddit1)\n",
    "subreddit2 = 'flying'\n",
    "subreddit_2 = query_pushshift(subreddit2)"
   ]
  },
  {
   "cell_type": "code",
   "execution_count": 5,
   "metadata": {},
   "outputs": [],
   "source": [
    "#combine = subreddit_1 + subreddit_2\n",
    "subreddit_1.to_csv('datasets/subreddit1.csv')\n",
    "subreddit_2.to_csv('datasets/subreddit2.csv')\n",
    "combined = pd.concat([subreddit_1, subreddit_2])\n",
    "combined.to_csv('datasets/combined.csv')"
   ]
  }
 ],
 "metadata": {
  "kernelspec": {
   "display_name": "Python 3",
   "language": "python",
   "name": "python3"
  },
  "language_info": {
   "codemirror_mode": {
    "name": "ipython",
    "version": 3
   },
   "file_extension": ".py",
   "mimetype": "text/x-python",
   "name": "python",
   "nbconvert_exporter": "python",
   "pygments_lexer": "ipython3",
   "version": "3.6.4"
  },
  "toc": {
   "base_numbering": 1,
   "nav_menu": {},
   "number_sections": true,
   "sideBar": true,
   "skip_h1_title": false,
   "title_cell": "Table of Contents",
   "title_sidebar": "Contents",
   "toc_cell": false,
   "toc_position": {},
   "toc_section_display": true,
   "toc_window_display": false
  }
 },
 "nbformat": 4,
 "nbformat_minor": 2
}
